{
 "cells": [
  {
   "cell_type": "markdown",
   "metadata": {},
   "source": [
    "#### Exercise: Classifying the MNIST dataset\n",
    "- This dataset contains images of hand-written digits from 0 to 9\n",
    "- Our task is given these sets of images, classify them into the correct categorical of number from 0 --> 9\n",
    "- Fun note: Classifying MNIST dataset is considered one of the \"hello world\" example to Machine Learning, this dataset was clean enough that you do not have to perform analysis over missing values, invalid data etc... However it is still challenging (if you look at the dataset itself) to benchmark several ML algorithms. http://yann.lecun.com/exdb/mnist/"
   ]
  },
  {
   "cell_type": "code",
   "execution_count": null,
   "metadata": {},
   "outputs": [],
   "source": [
    "import numpy as np\n",
    "import seaborn as sns\n",
    "import matplotlib as mpl\n",
    "import matplotlib.pyplot as plt\n",
    "%matplotlib inline\n",
    "\n",
    "\n",
    "from sklearn.linear_model import LogisticRegression\n",
    "from sklearn.model_selection import train_test_split\n",
    "from sklearn.preprocessing import StandardScaler\n",
    "from sklearn.utils import check_random_state\n",
    "\n",
    "from sklearn.datasets import fetch_openml"
   ]
  },
  {
   "cell_type": "code",
   "execution_count": null,
   "metadata": {},
   "outputs": [],
   "source": [
    "mnist_dataset = fetch_openml('mnist_784', version=1)\n",
    "mnist_dataset.keys()"
   ]
  },
  {
   "cell_type": "markdown",
   "metadata": {},
   "source": [
    "Extract the input features X and the target label Y"
   ]
  },
  {
   "cell_type": "code",
   "execution_count": null,
   "metadata": {},
   "outputs": [],
   "source": [
    "X, y = mnist_dataset['data'], mnist_dataset['target']\n",
    "X.shape, y.shape"
   ]
  },
  {
   "cell_type": "markdown",
   "metadata": {},
   "source": [
    "An image is a 2-dimensional array of numbers where each of the number represents the \"darkness\" of the pixel. A value of zero indicates a white pixel and a value of 255 represents a dark pixel. \n",
    "Each image in MNIST was flattened out into a vector of size (784,). So in order to view the image in its original form, we need to reshape it back into a 2D matrix."
   ]
  },
  {
   "cell_type": "code",
   "execution_count": null,
   "metadata": {},
   "outputs": [],
   "source": [
    "image_vector = X[0]\n",
    "digit_image = image_vector.reshape(28, 28)"
   ]
  },
  {
   "cell_type": "code",
   "execution_count": null,
   "metadata": {},
   "outputs": [],
   "source": [
    "# visualise the image to see the digit, this looks like a 5\n",
    "plt.imshow(digit_image, cmap=mpl.cm.binary)\n",
    "plt.show()\n",
    "\n",
    "# let's print out the actual label of this digit\n",
    "print('Label for X[0]:',y[0]) \n",
    "# since y[0] is of type string, we need to convert into integers\n",
    "y = y.astype(np.uint8)"
   ]
  },
  {
   "cell_type": "code",
   "execution_count": null,
   "metadata": {},
   "outputs": [],
   "source": [
    "type(y[0])"
   ]
  },
  {
   "cell_type": "code",
   "execution_count": null,
   "metadata": {},
   "outputs": [],
   "source": [
    "# Write a function to display an image of the digit so we can reuse it later on\n",
    "def plot_digit(img_vector):\n",
    "    digit_image = img_vector.reshape(28, 28)\n",
    "    plt.imshow(digit_image, cmap=mpl.cm.binary)\n",
    "    plt.show()"
   ]
  },
  {
   "cell_type": "markdown",
   "metadata": {},
   "source": [
    "You can actually print out a few more digits to see how challenging it is to recognise these hand-written digits from the images\n",
    "<center><img src='./assets/mnist_images.png' width=\"500\"></center>"
   ]
  },
  {
   "cell_type": "code",
   "execution_count": null,
   "metadata": {},
   "outputs": [],
   "source": [
    "# the first 20 vector does include a variety of digits, so we don't have to shuffle them ourselves\n",
    "for i in range(5):\n",
    "    plot_digit(X[i])"
   ]
  },
  {
   "cell_type": "markdown",
   "metadata": {},
   "source": [
    "Since we have a lot of images, let's take the first 60000 images for training and uses the remaining 10000 images for testing the model. It is important to know that the dataset was already shuffled so we do not have to go through that process. If all the digits of the same type are grouped together we have to shuffle them so cross-validation can work. ML models are trained better if each instance is independent from another, except for time series data."
   ]
  },
  {
   "cell_type": "code",
   "execution_count": null,
   "metadata": {},
   "outputs": [],
   "source": [
    "X_train, X_test, y_train, y_test = X[:60000], X[60000:], y[:60000], y[60000:]\n",
    "print(X_train.shape, X_test.shape, y_train.shape, y_test.shape)"
   ]
  },
  {
   "cell_type": "code",
   "execution_count": null,
   "metadata": {},
   "outputs": [],
   "source": []
  }
 ],
 "metadata": {
  "kernelspec": {
   "display_name": "Python 3",
   "language": "python",
   "name": "python3"
  },
  "language_info": {
   "codemirror_mode": {
    "name": "ipython",
    "version": 3
   },
   "file_extension": ".py",
   "mimetype": "text/x-python",
   "name": "python",
   "nbconvert_exporter": "python",
   "pygments_lexer": "ipython3",
   "version": "3.8.3"
  }
 },
 "nbformat": 4,
 "nbformat_minor": 4
}
