{
 "cells": [
  {
   "cell_type": "markdown",
   "metadata": {},
   "source": [
    "# Unsupervised Learning\n",
    "- K-Means clustering"
   ]
  },
  {
   "cell_type": "markdown",
   "metadata": {},
   "source": [
    "This technique is one of the fundamentals in unsupervised learning. It is used when we want to figure out if there is any hidden pattern inside our unlabelled data. Remember in unsupervised learning, we only have the features input X without the target value y to do prediction. Therefore, k-Means algorithm can be used to cluster our data points into certain groups if these data points share similarity in any form. \n",
    "As you can tell, we can also use this technique to identify anomaly in our dataset which are specific data points that do not resemble other data points. The object of this algorithm is to find certain number of `centroids` so that it achieves the smallest distance between all the data points and its corresponding `centroids`. However, the number of centroids is something we need to manually inspect and give to the algorithm. Once given the number of `centroids`, the algorithm can return the most efficient output to assign the data points to appropriate `centroids`. \n",
    "\n",
    "<center><img src='../assets/kmeans_clustering.png' width=\"800\"></center>\n",
    "\n",
    "Two applications we are going to explore in this lesson are clustering iris dataset and image segmentation. "
   ]
  },
  {
   "cell_type": "code",
   "execution_count": null,
   "metadata": {},
   "outputs": [],
   "source": [
    "import numpy as np\n",
    "import matplotlib.pyplot as plt\n",
    "%matplotlib inline\n",
    "# Though the following import is not directly being used, it is required\n",
    "# for 3D projection to work\n",
    "from mpl_toolkits.mplot3d import Axes3D\n",
    "\n",
    "from sklearn.cluster import KMeans\n",
    "from sklearn import datasets"
   ]
  },
  {
   "cell_type": "code",
   "execution_count": null,
   "metadata": {},
   "outputs": [],
   "source": [
    "from sklearn.datasets import load_iris\n",
    "\n",
    "data = load_iris()\n",
    "X = data.data\n",
    "y = data.target\n",
    "data.target_names"
   ]
  },
  {
   "cell_type": "code",
   "execution_count": null,
   "metadata": {},
   "outputs": [],
   "source": [
    "plt.figure(figsize=(9, 3.5))\n",
    "\n",
    "plt.subplot(121)\n",
    "plt.title(\"Classification\")\n",
    "plt.plot(X[y==0, 2], X[y==0, 3], \"yo\", label=\"Iris setosa\")\n",
    "plt.plot(X[y==1, 2], X[y==1, 3], \"bs\", label=\"Iris versicolor\")\n",
    "plt.plot(X[y==2, 2], X[y==2, 3], \"g^\", label=\"Iris virginica\")\n",
    "plt.xlabel(\"Petal length\", fontsize=14)\n",
    "plt.ylabel(\"Petal width\", fontsize=14)\n",
    "plt.legend(fontsize=12)\n",
    "\n",
    "\n",
    "plt.subplot(122)\n",
    "plt.title(\"Clustering\")\n",
    "plt.scatter(X[:, 2], X[:, 3], c=\"k\", marker=\".\")\n",
    "plt.xlabel(\"Petal length\", fontsize=14)\n",
    "plt.tick_params(labelleft=False)\n",
    "\n",
    "\n",
    "plt.show()"
   ]
  },
  {
   "cell_type": "code",
   "execution_count": null,
   "metadata": {},
   "outputs": [],
   "source": [
    "X.shape"
   ]
  },
  {
   "cell_type": "code",
   "execution_count": null,
   "metadata": {},
   "outputs": [],
   "source": [
    "#Applying kmeans to the dataset / Creating the kmeans classifier\n",
    "\n",
    "kmeans = KMeans(n_clusters = 5, init = 'k-means++', max_iter = 300, n_init = 10, random_state = 0)\n",
    "y_kmeans = kmeans.fit_predict(X)"
   ]
  },
  {
   "cell_type": "code",
   "execution_count": null,
   "metadata": {},
   "outputs": [],
   "source": [
    "kmeans.cluster_centers_"
   ]
  },
  {
   "cell_type": "code",
   "execution_count": null,
   "metadata": {},
   "outputs": [],
   "source": [
    "y_kmeans"
   ]
  },
  {
   "cell_type": "code",
   "execution_count": null,
   "metadata": {},
   "outputs": [],
   "source": [
    "#Visualising the clusters\n",
    "plt.scatter(X[y_kmeans == 0, 0], X[y_kmeans == 0, 1], s = 100, c = 'red', label = 'Iris-setosa')\n",
    "plt.scatter(X[y_kmeans == 1, 0], X[y_kmeans == 1, 1], s = 100, c = 'blue', label = 'Iris-versicolour')\n",
    "plt.scatter(X[y_kmeans == 2, 0], X[y_kmeans == 2, 1], s = 100, c = 'green', label = 'Iris-virginica')\n",
    "\n",
    "#Plotting the centroids of the clusters\n",
    "plt.scatter(kmeans.cluster_centers_[:, 0], kmeans.cluster_centers_[:,1], s = 100, c = 'yellow', label = 'Centroids')\n",
    "\n",
    "plt.legend()"
   ]
  },
  {
   "cell_type": "code",
   "execution_count": null,
   "metadata": {},
   "outputs": [],
   "source": [
    "def plot_k_clusters(estimator, n_clusters=3):\n",
    "\n",
    "    \n",
    "    titles = str(n_clusters) + \" clusters\"\n",
    "\n",
    "    fig = plt.figure(figsize=(15, 10))\n",
    "    ax = Axes3D(fig, rect=[0, 0, .95, 1], elev=48, azim=134)\n",
    "\n",
    "    labels = estimator.labels_\n",
    "\n",
    "    ax.scatter(X[:, 3], X[:, 0], X[:, 2],\n",
    "               c=labels.astype(np.float), edgecolor='k', s=60)\n",
    "\n",
    "    ax.w_xaxis.set_ticklabels([])\n",
    "    ax.w_yaxis.set_ticklabels([])\n",
    "    ax.w_zaxis.set_ticklabels([])\n",
    "    ax.set_xlabel('Petal width')\n",
    "    ax.set_ylabel('Sepal length')\n",
    "    ax.set_zlabel('Petal length')\n",
    "    ax.set_title(titles)\n",
    "    ax.dist = 12\n",
    "    plt.show()\n",
    "\n",
    "plot_k_clusters(kmeans, 5)"
   ]
  },
  {
   "cell_type": "code",
   "execution_count": null,
   "metadata": {},
   "outputs": [],
   "source": [
    "# Plot the ground truth\n",
    "fig = plt.figure(figsize=(12, 8))\n",
    "ax = Axes3D(fig, rect=[0, 0, .95, 1], elev=48, azim=134)\n",
    "\n",
    "for name, label in [('Setosa', 0),\n",
    "                    ('Versicolour', 1),\n",
    "                    ('Virginica', 2)]:\n",
    "    ax.text3D(X[y == label, 3].mean(),\n",
    "              X[y == label, 0].mean(),\n",
    "              X[y == label, 2].mean() + 2, name,\n",
    "              horizontalalignment='center',\n",
    "              bbox=dict(alpha=.2, edgecolor='w', facecolor='w'))\n",
    "# Reorder the labels to have colors matching the cluster results\n",
    "y = np.choose(y.astype(np.int), [1, 2, 0]).astype(np.float)\n",
    "ax.scatter(X[:, 3], X[:, 0], X[:, 2], c=y, edgecolor='k', s= 70)\n",
    "\n",
    "ax.w_xaxis.set_ticklabels([])\n",
    "ax.w_yaxis.set_ticklabels([])\n",
    "ax.w_zaxis.set_ticklabels([])\n",
    "ax.set_xlabel('Petal width')\n",
    "ax.set_ylabel('Sepal length')\n",
    "ax.set_zlabel('Petal length')\n",
    "ax.set_title('Ground Truth')\n",
    "ax.dist = 12\n",
    "\n",
    "plt.show()"
   ]
  },
  {
   "cell_type": "markdown",
   "metadata": {},
   "source": [
    "#### Image Segmentation with K-Means"
   ]
  },
  {
   "cell_type": "code",
   "execution_count": null,
   "metadata": {},
   "outputs": [],
   "source": [
    "import os\n",
    "from matplotlib.image import imread \n",
    "\n",
    "image = imread(os.path.join(\"images\",\"awww.png\"))\n",
    "image.shape"
   ]
  },
  {
   "cell_type": "code",
   "execution_count": null,
   "metadata": {},
   "outputs": [],
   "source": [
    "plt.imshow(image)"
   ]
  },
  {
   "cell_type": "code",
   "execution_count": null,
   "metadata": {},
   "outputs": [],
   "source": [
    "X = image.reshape(-1, 4)\n",
    "kmeans = KMeans(n_clusters=2).fit(X)\n",
    "\n"
   ]
  },
  {
   "cell_type": "code",
   "execution_count": null,
   "metadata": {},
   "outputs": [],
   "source": [
    "segmented_image = kmeans.cluster_centers_[kmeans.labels_]\n",
    "segmented_image = segmented_image.reshape(image.shape)"
   ]
  },
  {
   "cell_type": "code",
   "execution_count": null,
   "metadata": {},
   "outputs": [],
   "source": [
    "plt.imshow(segmented_image)"
   ]
  },
  {
   "cell_type": "markdown",
   "metadata": {},
   "source": [
    "#### Exercise:\n",
    "- Apply Kmeans on MNIST dataset"
   ]
  },
  {
   "cell_type": "code",
   "execution_count": null,
   "metadata": {},
   "outputs": [],
   "source": [
    "from sklearn.datasets import fetch_openml\n",
    "from sklearn.decomposition import PCA\n",
    "# Load the MNIST dataset using scikit-learn function\n",
    "mnist_dataset = fetch_openml('mnist_784', version=1)\n",
    "mnist_dataset.keys()\n",
    "\n",
    "X_mnist, y_mnist = mnist_dataset['data'], mnist_dataset['target']\n",
    "X_mnist.shape, X_mnist.shape"
   ]
  },
  {
   "cell_type": "code",
   "execution_count": null,
   "metadata": {},
   "outputs": [],
   "source": [
    "reduced_data = PCA(n_components=2).fit_transform(X_mnist)\n",
    "kmeans = KMeans(n_clusters = 10, init = 'k-means++', max_iter = 300, n_init = 5, random_state = 0)\n",
    "y_kmeans = kmeans.fit_predict(reduced_data)"
   ]
  },
  {
   "cell_type": "code",
   "execution_count": null,
   "metadata": {},
   "outputs": [],
   "source": [
    "#Visualising the clusters\n",
    "# Better color codes: https://matplotlib.org/stable/tutorials/colors/colors.html\n",
    "plt.scatter(reduced_data[y_kmeans == 0, 0], reduced_data[y_kmeans == 0, 1], s = 100, c = 'red', label = '0')\n",
    "plt.scatter(reduced_data[y_kmeans == 1, 0], reduced_data[y_kmeans == 1, 1], s = 100, c = 'blue', label = '1')\n",
    "plt.scatter(reduced_data[y_kmeans == 2, 0], reduced_data[y_kmeans == 2, 1], s = 100, c = 'yellow', label = '2')\n",
    "plt.scatter(reduced_data[y_kmeans == 3, 0], reduced_data[y_kmeans == 3, 1], s = 100, c = 'cyan', label = '3')\n",
    "plt.scatter(reduced_data[y_kmeans == 4, 0], reduced_data[y_kmeans == 4, 1], s = 100, c = '#90EE90', label = '4')\n",
    "plt.scatter(reduced_data[y_kmeans == 5, 0], reduced_data[y_kmeans == 5, 1], s = 100, c = 'green', label = '5')\n",
    "plt.scatter(reduced_data[y_kmeans == 6, 0], reduced_data[y_kmeans == 6, 1], s = 100, c = 'brown', label = '6')\n",
    "plt.scatter(reduced_data[y_kmeans == 7, 0], reduced_data[y_kmeans == 7, 1], s = 100, c = 'purple', label = '7')\n",
    "plt.scatter(reduced_data[y_kmeans == 8, 0], reduced_data[y_kmeans == 8, 1], s = 100, c = '#FF6347', label = '8')\n",
    "plt.scatter(reduced_data[y_kmeans == 9, 0], reduced_data[y_kmeans == 9, 1], s = 100, c = 'm', label = '9')\n",
    "\n",
    "\n",
    "\n",
    "#Plotting the centroids of the clusters\n",
    "plt.scatter(kmeans.cluster_centers_[:, 0], kmeans.cluster_centers_[:,1], s = 100, c = '#EE82EE', label = 'Centroids')\n",
    "\n",
    "plt.legend()"
   ]
  },
  {
   "cell_type": "code",
   "execution_count": null,
   "metadata": {},
   "outputs": [],
   "source": []
  },
  {
   "cell_type": "code",
   "execution_count": null,
   "metadata": {},
   "outputs": [],
   "source": []
  },
  {
   "cell_type": "code",
   "execution_count": null,
   "metadata": {},
   "outputs": [],
   "source": []
  }
 ],
 "metadata": {
  "kernelspec": {
   "display_name": "Python 3",
   "language": "python",
   "name": "python3"
  },
  "language_info": {
   "codemirror_mode": {
    "name": "ipython",
    "version": 3
   },
   "file_extension": ".py",
   "mimetype": "text/x-python",
   "name": "python",
   "nbconvert_exporter": "python",
   "pygments_lexer": "ipython3",
   "version": "3.8.3"
  }
 },
 "nbformat": 4,
 "nbformat_minor": 4
}
