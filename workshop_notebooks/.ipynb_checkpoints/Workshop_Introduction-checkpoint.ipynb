{
 "cells": [
  {
   "cell_type": "markdown",
   "metadata": {},
   "source": [
    "# Introduction to applied machine learning"
   ]
  },
  {
   "cell_type": "markdown",
   "metadata": {},
   "source": [
    "## Objectives:\n",
    "- Give a comprehensive introduction of Machine Learning basics. This includes terminology and concepts, as well as intuition behind certain ML models and techniques.\n",
    "- Demonstrate the application of ML models and techniques using Python and related libraries.\n",
    "- Demonstrate the use of ML models and techniques on real dataset."
   ]
  },
  {
   "cell_type": "markdown",
   "metadata": {},
   "source": [
    "## Prerequisites:\n",
    "- Comfortable with Python syntax and programming concepts\n",
    "- Familiar with Pandas, Numpy and Seaborn, we are going to use them alot\n",
    "- Advanced Linear Algebra, Statistics and Probability, Stochastic Modelling, Calculus .... Just kidding, there is only a few Math formula that you are going to see here, however references to Mathematics required for learning about ML will be provided. Having an understanding of the Mathematics behind each ML algorithms is going to make you appreciate the behavior of the model and know its pros/cons when using them."
   ]
  },
  {
   "cell_type": "markdown",
   "metadata": {},
   "source": [
    "## Outline"
   ]
  },
  {
   "cell_type": "markdown",
   "metadata": {},
   "source": [
    "#### Introduction machine learning programming paradigm\n",
    "\n",
    "<center><img src='../assets/ml-vs-traditional.jpeg' width=\"700\" height=\"700\"></center>"
   ]
  },
  {
   "cell_type": "markdown",
   "metadata": {},
   "source": [
    "#### Differences between AI/ML and DL\n",
    "\n",
    "<center><img src='../assets/connection-between-fields.jpeg' width=\"700\" height=\"700\"></center>"
   ]
  },
  {
   "cell_type": "markdown",
   "metadata": {},
   "source": [
    "#### Types of machine learning algorithms:\n",
    "- Supervised learning: given a dataset containing both features and labels, learn a model to predict future data\n",
    "- Unsupervised learning: there is no labels involved, we train models to pick up patterns inside the data\n",
    "- Reinforcement learning: we train an modelling agent to predict actions by giving reward signals"
   ]
  },
  {
   "cell_type": "markdown",
   "metadata": {},
   "source": [
    "References:\n",
    "- [1] https://sebastianraschka.com/blog/2020/intro-to-dl-ch01.html"
   ]
  },
  {
   "cell_type": "code",
   "execution_count": null,
   "metadata": {},
   "outputs": [],
   "source": []
  }
 ],
 "metadata": {
  "kernelspec": {
   "display_name": "Python 3",
   "language": "python",
   "name": "python3"
  },
  "language_info": {
   "codemirror_mode": {
    "name": "ipython",
    "version": 3
   },
   "file_extension": ".py",
   "mimetype": "text/x-python",
   "name": "python",
   "nbconvert_exporter": "python",
   "pygments_lexer": "ipython3",
   "version": "3.8.3"
  }
 },
 "nbformat": 4,
 "nbformat_minor": 4
}
